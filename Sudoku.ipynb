{
 "cells": [
  {
   "cell_type": "code",
   "execution_count": 1,
   "metadata": {},
   "outputs": [],
   "source": [
    "from IPython.display import clear_output\n",
    "\n",
    "def display_board(board):\n",
    "    print(board[0]+'¦'+board[1]+'¦'+board[2]+'¦'+board[3])\n",
    "    print(\"-------\")\n",
    "    print(board[4]+'¦'+board[5]+'¦'+board[6]+'¦'+board[7])\n",
    "    print(\"-------\")\n",
    "    print(board[8]+'¦'+board[9]+'¦'+board[10]+'¦'+board[11])\n",
    "    print(\"-------\")\n",
    "    print(board[12]+'¦'+board[13]+'¦'+board[14]+'¦'+board[15])\n"
   ]
  },
  {
   "cell_type": "code",
   "execution_count": 2,
   "metadata": {},
   "outputs": [],
   "source": [
    "#my_dic = {'Square1': ['1','2','3','4'], 'Square2': ['1','2','3','4'],'Square3': ['1','2','3','4'],'Square4': ['1','2','3','4']}\n",
    "test_board2 = [' ',' ',' ',' ',' ',' ',' ',' ',' ',' ',' ',' ',' ',' ',' ',' ',' ']"
   ]
  },
  {
   "cell_type": "code",
   "execution_count": 3,
   "metadata": {},
   "outputs": [],
   "source": [
    "def comparison():\n",
    "    \n",
    "    p = int(test_board2[0]) + int(test_board2[1]) + int(test_board2[2]) +  int(test_board2[3])\n",
    "    p1 = int(test_board2[4]) + int(test_board2[5]) + int(test_board2[6]) +  int(test_board2[7])\n",
    "    p2 = int(test_board2[8]) + int(test_board2[9]) + int(test_board2[10]) +  int(test_board2[11])\n",
    "    p3 = int(test_board2[12]) + int(test_board2[13]) + int(test_board2[14]) + int(test_board2[15])\n",
    "    p4 = int(test_board2[0]) + int(test_board2[4]) + int(test_board2[8]) +  int(test_board2[12])\n",
    "    p5 = int(test_board2[1]) + int(test_board2[5]) + int(test_board2[9]) +  int(test_board2[13])\n",
    "    p6 = int(test_board2[2]) + int(test_board2[6]) + int(test_board2[10]) +  int(test_board2[14])\n",
    "    p7 = int(test_board2[3]) + int(test_board2[7]) + int(test_board2[11]) +  int(test_board2[15])\n",
    "    p8 = int(test_board2[0]) + int(test_board2[1]) + int(test_board2[4]) +  int(test_board2[5])\n",
    "    p9 = int(test_board2[2]) + int(test_board2[3]) + int(test_board2[6]) +  int(test_board2[7])\n",
    "    p10 = int(test_board2[8]) + int(test_board2[9]) + int(test_board2[12]) +  int(test_board2[13])\n",
    "    p11 = int(test_board2[10]) + int(test_board2[11]) + int(test_board2[14]) +  int(test_board2[15])\n",
    "    \n",
    "    s = set(test_board2[0] + test_board2[1]+ test_board2[2]+ test_board2[3])\n",
    "    s1= set(test_board2[4] + test_board2[5]+ test_board2[6]+ test_board2[7])\n",
    "    s2= set(test_board2[8] + test_board2[9]+ test_board2[10]+ test_board2[11])\n",
    "    s3= set(test_board2[12] + test_board2[13]+ test_board2[14]+ test_board2[15])\n",
    "    s4= set(test_board2[0] + test_board2[4]+ test_board2[8]+ test_board2[12])\n",
    "    s5= set(test_board2[1] + test_board2[5]+ test_board2[9]+ test_board2[13])\n",
    "    s6= set(test_board2[2] + test_board2[6]+ test_board2[10]+ test_board2[14])\n",
    "    s7= set(test_board2[3] + test_board2[7]+ test_board2[11]+ test_board2[15])\n",
    "    s8=set(test_board2[0] + test_board2[1]+ test_board2[4]+ test_board2[5])\n",
    "    s9= set(test_board2[2] + test_board2[3]+ test_board2[6]+ test_board2[7])\n",
    "    s10=set(test_board2[8] + test_board2[9]+ test_board2[12]+ test_board2[13])\n",
    "    s11=set(test_board2[10] + test_board2[11]+ test_board2[14]+ test_board2[15])\n",
    "    \n",
    "    if ((p == 10 and len(s) == 4) and\n",
    "        (p1 == 10 and len(s1) == 4) and\n",
    "        (p2 == 10 and len(s2) == 4) and\n",
    "        (p3 == 10 and len(s3) == 4) and\n",
    "        (p4 == 10 and len(s4) == 4) and\n",
    "        (p5 == 10 and len(s5) == 4) and\n",
    "        (p6 == 10 and len(s6) == 4) and\n",
    "        (p7 == 10 and len(s7) == 4) and\n",
    "        (p8 == 10 and len(s8) == 4) and\n",
    "        (p9 == 10 and len(s9) == 4) and\n",
    "        (p10 == 10 and len(s10) == 4) and\n",
    "        (p11 == 10 and len(s11) == 4)):\n",
    "        return True\n",
    "    \n",
    "    return False"
   ]
  },
  {
   "cell_type": "code",
   "execution_count": null,
   "metadata": {},
   "outputs": [],
   "source": []
  },
  {
   "cell_type": "code",
   "execution_count": 4,
   "metadata": {},
   "outputs": [],
   "source": [
    "def random_number():\n",
    "    import random\n",
    "    from random import randrange\n",
    "    global test_board2\n",
    "    global test_board\n",
    "    n = 0\n",
    "    a = 0\n",
    "    test_board2 = ['0','0','0','0','0','0','0','0','0','0','0','0','0','0','0','0']\n",
    "    def shuffle():\n",
    "        global test_board\n",
    "        test_board = ['1','2','3','4','1','2','3','4','1','2','3','4','1','2','3','4']\n",
    "        random.shuffle(test_board)\n",
    "    \n",
    "    while comparison()==False:\n",
    "        shuffle()\n",
    "\n",
    "        for i in range(16):\n",
    "            \n",
    "            test_board2[i] = test_board[i]  \n",
    "        if comparison()== True:\n",
    "            break    \n",
    "    display_board(test_board2)\n",
    "    print(\" \")\n",
    "    print(\" \")\n",
    "    shuf = [1,2,3,4,5,6,7,8,9,10,11,12,13,14,15]\n",
    "    random.shuffle(shuf)\n",
    "    for i in range(8):\n",
    "        test_board2[shuf[i]] = \" \"\n",
    "    display_board(test_board2)"
   ]
  },
  {
   "cell_type": "markdown",
   "metadata": {},
   "source": [
    "\n"
   ]
  },
  {
   "cell_type": "code",
   "execution_count": 5,
   "metadata": {
    "scrolled": true
   },
   "outputs": [
    {
     "name": "stdout",
     "output_type": "stream",
     "text": [
      "2¦4¦3¦1\n",
      "-------\n",
      "3¦1¦4¦2\n",
      "-------\n",
      "4¦2¦1¦3\n",
      "-------\n",
      "1¦3¦2¦4\n",
      " \n",
      " \n",
      "2¦ ¦3¦1\n",
      "-------\n",
      "3¦ ¦4¦ \n",
      "-------\n",
      " ¦2¦ ¦ \n",
      "-------\n",
      "1¦ ¦2¦ \n"
     ]
    }
   ],
   "source": [
    "random_number()"
   ]
  },
  {
   "cell_type": "code",
   "execution_count": null,
   "metadata": {},
   "outputs": [],
   "source": []
  },
  {
   "cell_type": "code",
   "execution_count": null,
   "metadata": {},
   "outputs": [],
   "source": []
  }
 ],
 "metadata": {
  "kernelspec": {
   "display_name": "Python 3",
   "language": "python",
   "name": "python3"
  },
  "language_info": {
   "codemirror_mode": {
    "name": "ipython",
    "version": 3
   },
   "file_extension": ".py",
   "mimetype": "text/x-python",
   "name": "python",
   "nbconvert_exporter": "python",
   "pygments_lexer": "ipython3",
   "version": "3.8.5"
  }
 },
 "nbformat": 4,
 "nbformat_minor": 4
}
